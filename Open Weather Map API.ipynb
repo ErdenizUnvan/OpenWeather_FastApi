{
 "cells": [
  {
   "cell_type": "code",
   "execution_count": 1,
   "id": "6339528d-f0da-40ad-ae8a-b7a63e056cbf",
   "metadata": {},
   "outputs": [
    {
     "name": "stdin",
     "output_type": "stream",
     "text": [
      "sehir:  Istanbul\n"
     ]
    },
    {
     "data": {
      "text/plain": [
       "{'coord': {'lon': 28.9833, 'lat': 41.0351},\n",
       " 'weather': [{'id': 800,\n",
       "   'main': 'Clear',\n",
       "   'description': 'clear sky',\n",
       "   'icon': '01d'}],\n",
       " 'base': 'stations',\n",
       " 'main': {'temp': 291.72,\n",
       "  'feels_like': 290.73,\n",
       "  'temp_min': 291.72,\n",
       "  'temp_max': 291.83,\n",
       "  'pressure': 1012,\n",
       "  'humidity': 42,\n",
       "  'sea_level': 1012,\n",
       "  'grnd_level': 1004},\n",
       " 'visibility': 10000,\n",
       " 'wind': {'speed': 2.06, 'deg': 160},\n",
       " 'clouds': {'all': 0},\n",
       " 'dt': 1741856919,\n",
       " 'sys': {'type': 2,\n",
       "  'id': 2000954,\n",
       "  'country': 'TR',\n",
       "  'sunrise': 1741839557,\n",
       "  'sunset': 1741882079},\n",
       " 'timezone': 10800,\n",
       " 'id': 745042,\n",
       " 'name': 'Istanbul',\n",
       " 'cod': 200}"
      ]
     },
     "execution_count": 1,
     "metadata": {},
     "output_type": "execute_result"
    }
   ],
   "source": [
    "import requests\n",
    "import urllib3\n",
    "urllib3.disable_warnings(urllib3.exceptions.InsecureRequestWarning)\n",
    "url='https://api.openweathermap.org/data/2.5/weather'\n",
    "apikey='97afb3c84a9f644b9bd5b9586ea5497a'\n",
    "sehir=input('sehir: ')\n",
    "query_params={'q':sehir,'appid':apikey}\n",
    "response=requests.get(url,params=query_params,verify=False)\n",
    "response.json()"
   ]
  },
  {
   "cell_type": "code",
   "execution_count": 2,
   "id": "d0eb5032-caa8-4d9b-89e5-2ce0eba03b3c",
   "metadata": {},
   "outputs": [
    {
     "name": "stdin",
     "output_type": "stream",
     "text": [
      "sehir:  Istanbul\n"
     ]
    },
    {
     "data": {
      "text/plain": [
       "291.72"
      ]
     },
     "execution_count": 2,
     "metadata": {},
     "output_type": "execute_result"
    }
   ],
   "source": [
    "import requests\n",
    "import urllib3\n",
    "urllib3.disable_warnings(urllib3.exceptions.InsecureRequestWarning)\n",
    "url='https://api.openweathermap.org/data/2.5/weather'\n",
    "apikey='97afb3c84a9f644b9bd5b9586ea5497a'\n",
    "sehir=input('sehir: ')\n",
    "query_params={'q':sehir,'appid':apikey}\n",
    "response=requests.get(url,params=query_params,verify=False)\n",
    "response.json()['main']['temp']"
   ]
  },
  {
   "cell_type": "code",
   "execution_count": 3,
   "id": "40ced261-24e6-4712-b35a-6457bcf25f63",
   "metadata": {},
   "outputs": [
    {
     "name": "stdin",
     "output_type": "stream",
     "text": [
      "sehir:  Istanbul\n"
     ]
    },
    {
     "data": {
      "text/plain": [
       "18.57"
      ]
     },
     "execution_count": 3,
     "metadata": {},
     "output_type": "execute_result"
    }
   ],
   "source": [
    "import requests\n",
    "import urllib3\n",
    "urllib3.disable_warnings(urllib3.exceptions.InsecureRequestWarning)\n",
    "url='https://api.openweathermap.org/data/2.5/weather'\n",
    "apikey='97afb3c84a9f644b9bd5b9586ea5497a'\n",
    "sehir=input('sehir: ')\n",
    "query_params={'q':sehir,'appid':apikey,'units':'metric'}\n",
    "response=requests.get(url,params=query_params,verify=False)\n",
    "response.json()['main']['temp']"
   ]
  },
  {
   "cell_type": "code",
   "execution_count": 4,
   "id": "f4c9ca9f-0cee-4c9b-849a-a6d6b3c706a3",
   "metadata": {},
   "outputs": [
    {
     "name": "stdin",
     "output_type": "stream",
     "text": [
      "sehir:  dfdfd\n"
     ]
    },
    {
     "ename": "KeyError",
     "evalue": "'main'",
     "output_type": "error",
     "traceback": [
      "\u001b[1;31m--------------------------------------------------------------------\u001b[0m",
      "\u001b[1;31mKeyError\u001b[0m                           Traceback (most recent call last)",
      "Cell \u001b[1;32mIn[4], line 9\u001b[0m\n\u001b[0;32m      7\u001b[0m query_params\u001b[38;5;241m=\u001b[39m{\u001b[38;5;124m'\u001b[39m\u001b[38;5;124mq\u001b[39m\u001b[38;5;124m'\u001b[39m:sehir,\u001b[38;5;124m'\u001b[39m\u001b[38;5;124mappid\u001b[39m\u001b[38;5;124m'\u001b[39m:apikey,\u001b[38;5;124m'\u001b[39m\u001b[38;5;124munits\u001b[39m\u001b[38;5;124m'\u001b[39m:\u001b[38;5;124m'\u001b[39m\u001b[38;5;124mmetric\u001b[39m\u001b[38;5;124m'\u001b[39m}\n\u001b[0;32m      8\u001b[0m response\u001b[38;5;241m=\u001b[39mrequests\u001b[38;5;241m.\u001b[39mget(url,params\u001b[38;5;241m=\u001b[39mquery_params,verify\u001b[38;5;241m=\u001b[39m\u001b[38;5;28;01mFalse\u001b[39;00m)\n\u001b[1;32m----> 9\u001b[0m response\u001b[38;5;241m.\u001b[39mjson()[\u001b[38;5;124m'\u001b[39m\u001b[38;5;124mmain\u001b[39m\u001b[38;5;124m'\u001b[39m][\u001b[38;5;124m'\u001b[39m\u001b[38;5;124mtemp\u001b[39m\u001b[38;5;124m'\u001b[39m]\n",
      "\u001b[1;31mKeyError\u001b[0m: 'main'"
     ]
    }
   ],
   "source": [
    "import requests\n",
    "import urllib3\n",
    "urllib3.disable_warnings(urllib3.exceptions.InsecureRequestWarning)\n",
    "url='https://api.openweathermap.org/data/2.5/weather'\n",
    "apikey='97afb3c84a9f644b9bd5b9586ea5497a'\n",
    "sehir=input('sehir: ')\n",
    "query_params={'q':sehir,'appid':apikey,'units':'metric'}\n",
    "response=requests.get(url,params=query_params,verify=False)\n",
    "response.json()['main']['temp']"
   ]
  },
  {
   "cell_type": "code",
   "execution_count": 5,
   "id": "e44d9830-111e-4f73-83d9-c2da01c93631",
   "metadata": {},
   "outputs": [
    {
     "name": "stdin",
     "output_type": "stream",
     "text": [
      "sehir:  dfdfd\n"
     ]
    },
    {
     "data": {
      "text/plain": [
       "{'cod': '404', 'message': 'city not found'}"
      ]
     },
     "execution_count": 5,
     "metadata": {},
     "output_type": "execute_result"
    }
   ],
   "source": [
    "import requests\n",
    "import urllib3\n",
    "urllib3.disable_warnings(urllib3.exceptions.InsecureRequestWarning)\n",
    "url='https://api.openweathermap.org/data/2.5/weather'\n",
    "apikey='97afb3c84a9f644b9bd5b9586ea5497a'\n",
    "sehir=input('sehir: ')\n",
    "query_params={'q':sehir,'appid':apikey,'units':'metric'}\n",
    "response=requests.get(url,params=query_params,verify=False)\n",
    "response.json()"
   ]
  },
  {
   "cell_type": "code",
   "execution_count": 6,
   "id": "e17e04fb-acb6-4a72-81f6-aa7f0ccf4673",
   "metadata": {},
   "outputs": [
    {
     "name": "stdin",
     "output_type": "stream",
     "text": [
      "sehir:  dfdfd\n",
      "devam icin evet yaz ya da cikis icin esc yaz:  esc\n"
     ]
    },
    {
     "name": "stdout",
     "output_type": "stream",
     "text": [
      "cikis\n"
     ]
    }
   ],
   "source": [
    "import requests\n",
    "import urllib3\n",
    "urllib3.disable_warnings(urllib3.exceptions.InsecureRequestWarning)\n",
    "\n",
    "while True:\n",
    "    try:\n",
    "        url='https://api.openweathermap.org/data/2.5/weather'\n",
    "        apikey='97afb3c84a9f644b9bd5b9586ea5497a'\n",
    "        sehir=input('sehir: ')\n",
    "        query_params={'q':sehir,'appid':apikey,'units':'metric'}\n",
    "        response=requests.get(url,params=query_params,verify=False)\n",
    "        print(response.json()['main']['temp'])\n",
    "        break\n",
    "    except Exception as e:\n",
    "        flag=False\n",
    "        while True:\n",
    "            devam =input('devam icin evet yaz ya da cikis icin esc yaz: ')\n",
    "            if devam.lower()=='esc':\n",
    "                print('cikis')\n",
    "                flag=True\n",
    "                break\n",
    "            elif devam.lower()=='evet':\n",
    "                print('devam')\n",
    "                break  \n",
    "            else:\n",
    "                print('ne evet yazdin ne de esc yazdin!')\n",
    "        if flag:\n",
    "            break"
   ]
  },
  {
   "cell_type": "code",
   "execution_count": 7,
   "id": "0a11b133-8798-451b-9239-d21b703fb7da",
   "metadata": {},
   "outputs": [
    {
     "name": "stdin",
     "output_type": "stream",
     "text": [
      "sehir:  csdfsdfd\n",
      "devam icin evet yaz ya da cikis icin esc yaz:  evet\n"
     ]
    },
    {
     "name": "stdout",
     "output_type": "stream",
     "text": [
      "devam\n"
     ]
    },
    {
     "name": "stdin",
     "output_type": "stream",
     "text": [
      "sehir:  Istanbul\n"
     ]
    },
    {
     "name": "stdout",
     "output_type": "stream",
     "text": [
      "18.57\n"
     ]
    }
   ],
   "source": [
    "import requests\n",
    "import urllib3\n",
    "urllib3.disable_warnings(urllib3.exceptions.InsecureRequestWarning)\n",
    "\n",
    "while True:\n",
    "    try:\n",
    "        url='https://api.openweathermap.org/data/2.5/weather'\n",
    "        apikey='97afb3c84a9f644b9bd5b9586ea5497a'\n",
    "        sehir=input('sehir: ')\n",
    "        query_params={'q':sehir,'appid':apikey,'units':'metric'}\n",
    "        response=requests.get(url,params=query_params,verify=False)\n",
    "        print(response.json()['main']['temp'])\n",
    "        break\n",
    "    except Exception as e:\n",
    "        flag=False\n",
    "        while True:\n",
    "            devam =input('devam icin evet yaz ya da cikis icin esc yaz: ')\n",
    "            if devam.lower()=='esc':\n",
    "                print('cikis')\n",
    "                flag=True\n",
    "                break\n",
    "            elif devam.lower()=='evet':\n",
    "                print('devam')\n",
    "                break  \n",
    "            else:\n",
    "                print('ne evet yazdin ne de esc yazdin!')\n",
    "        if flag:\n",
    "            break"
   ]
  },
  {
   "cell_type": "code",
   "execution_count": null,
   "id": "5bff0192-fd77-451a-88a1-f08d3bfb37a8",
   "metadata": {},
   "outputs": [],
   "source": []
  },
  {
   "cell_type": "code",
   "execution_count": null,
   "id": "b3377912-064c-450d-8d41-4f466b173643",
   "metadata": {},
   "outputs": [],
   "source": []
  },
  {
   "cell_type": "code",
   "execution_count": null,
   "id": "44f803d1-dbcb-4ce3-a040-df6e2e8fee6a",
   "metadata": {},
   "outputs": [],
   "source": []
  },
  {
   "cell_type": "code",
   "execution_count": null,
   "id": "d6915994-71a3-45ef-b086-f83c8d3462a7",
   "metadata": {},
   "outputs": [],
   "source": []
  },
  {
   "cell_type": "code",
   "execution_count": null,
   "id": "430ada2d-10b0-4fba-8c61-ef42260d61e2",
   "metadata": {},
   "outputs": [],
   "source": []
  },
  {
   "cell_type": "code",
   "execution_count": null,
   "id": "2f8d8145-392f-4a9f-b826-cdffaa048b79",
   "metadata": {},
   "outputs": [],
   "source": []
  }
 ],
 "metadata": {
  "kernelspec": {
   "display_name": "Python 3 (ipykernel)",
   "language": "python",
   "name": "python3"
  },
  "language_info": {
   "codemirror_mode": {
    "name": "ipython",
    "version": 3
   },
   "file_extension": ".py",
   "mimetype": "text/x-python",
   "name": "python",
   "nbconvert_exporter": "python",
   "pygments_lexer": "ipython3",
   "version": "3.11.10"
  }
 },
 "nbformat": 4,
 "nbformat_minor": 5
}
